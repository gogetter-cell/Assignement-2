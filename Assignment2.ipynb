{
  "nbformat": 4,
  "nbformat_minor": 0,
  "metadata": {
    "colab": {
      "provenance": []
    },
    "kernelspec": {
      "name": "python3",
      "display_name": "Python 3"
    },
    "language_info": {
      "name": "python"
    }
  },
  "cells": [
    {
      "cell_type": "markdown",
      "source": [
        "Theory Questions"
      ],
      "metadata": {
        "id": "rBOR10zryMGy"
      }
    },
    {
      "cell_type": "code",
      "source": [
        "#1. what are data structures and why are they important?\n",
        "\"\"\"\n",
        " Data structrues are ways of storing data in any programming language. Data structures are important because data can be accessed, stored and\n",
        "modified using these data structures.\n",
        "\"\"\""
      ],
      "metadata": {
        "id": "vsfBHUJsyQJK"
      },
      "execution_count": null,
      "outputs": []
    },
    {
      "cell_type": "code",
      "source": [
        "# 2. Explain the difference between mutable and immutable data types with exaples.\n",
        "\n",
        "#Mutable data types will help user to alter the elements with in the data.\n",
        "#For example\n",
        "a=[1,2,3,4] # the variable a is a list containing numbers.\n",
        "a[0]=9 # list is a mutable data type. The 1st element can be changed from 1 to 9. the new list will contain [9,2,3,4]\n",
        "#Immutable data types will not help user to alter the elements within the data.\n",
        "#For example\n",
        "a=(1,2,3,4)# the variable a is a tuple containing numbers.\n",
        "a[0]=9 # Tuple is an immutable data type. Altering the 1st element will throw an error.\n"
      ],
      "metadata": {
        "id": "HB-E46IgyeuG",
        "colab": {
          "base_uri": "https://localhost:8080/"
        },
        "outputId": "dfd7f07c-3d21-4855-a44a-0e11542af78e"
      },
      "execution_count": 73,
      "outputs": [
        {
          "output_type": "execute_result",
          "data": {
            "text/plain": [
              "[9, 2, 3, 4]"
            ]
          },
          "metadata": {},
          "execution_count": 73
        }
      ]
    },
    {
      "cell_type": "code",
      "source": [
        "#3. what are the main difference between list and tuples in python .\n",
        "#List are mutable , i.e the elements in a list can be altered but tuples are immutable , i.e the elements within a tuple cannot be altered."
      ],
      "metadata": {
        "id": "i7SHgwHgy3lG"
      },
      "execution_count": null,
      "outputs": []
    },
    {
      "cell_type": "code",
      "source": [
        "#4. Describe how dictionaries store data.\n",
        "\n",
        "#Dictionaries are unordered data types. Hence dictionaries use \"keys\" to store the values.\n",
        "#For example\n",
        "a={\"name\":\"kamal\"}\n",
        "#Here, \"name\" is the key and \"kamal\" is the value. The value ,\"kamal\" can be accessed by calling out the key of the dictionary.\n",
        "a[\"name\"]"
      ],
      "metadata": {
        "colab": {
          "base_uri": "https://localhost:8080/",
          "height": 35
        },
        "id": "bRsbwqmMl7gE",
        "outputId": "310a5bb3-016a-480f-c619-11a29eb0894e"
      },
      "execution_count": 76,
      "outputs": [
        {
          "output_type": "execute_result",
          "data": {
            "text/plain": [
              "'kamal'"
            ],
            "application/vnd.google.colaboratory.intrinsic+json": {
              "type": "string"
            }
          },
          "metadata": {},
          "execution_count": 76
        }
      ]
    },
    {
      "cell_type": "code",
      "source": [
        "#5. why might you use set instead of list in python ?\n",
        " # Set can be used instead of list , if the user wants to store homogenous data types ,  avoid storing values multiple times and intends to\n",
        " # do set operations."
      ],
      "metadata": {
        "id": "CwphyCqzmFOp"
      },
      "execution_count": null,
      "outputs": []
    },
    {
      "cell_type": "code",
      "source": [
        "#6. What is a string in python and how it is different from the list?\n",
        "# Strings in python are set of characters enclosed in quotes.\n",
        "# lists are mutable, can store large volumes of heterogenous data but string is immuatble and can only store one value."
      ],
      "metadata": {
        "id": "m90w6RnZmNuk"
      },
      "execution_count": null,
      "outputs": []
    },
    {
      "cell_type": "code",
      "source": [
        "#7. How do tuples ensure data integrity in python ?\n",
        "# As tuples are immutable, its elements cannot be altered. Hence, tuples can ensure data integrity in python."
      ],
      "metadata": {
        "id": "71_JQV6UmT7v"
      },
      "execution_count": null,
      "outputs": []
    },
    {
      "cell_type": "code",
      "source": [
        "#8. what is a hash table and how does it relate to dictionaries in python ?\n",
        "# Hash table consists of key and its corresponding values. Dictonaries store data using a has table, i.e the values are indexed to a key."
      ],
      "metadata": {
        "id": "fCU_9WeCmap3"
      },
      "execution_count": null,
      "outputs": []
    },
    {
      "cell_type": "code",
      "source": [
        "#9. Can lists contain different data types in python?\n",
        "# Lists are mutable, ordered and can store heterogenous data types. Hence list can store different data types in python"
      ],
      "metadata": {
        "id": "T1LDdrDBmnw_"
      },
      "execution_count": null,
      "outputs": []
    },
    {
      "cell_type": "code",
      "source": [
        "#10. Explain why strings are immutable in python.\n",
        "# The values stored in a string cannot be changed in python. The strings are immutable in python because strings are used to strore information\n",
        "# with optimum memory."
      ],
      "metadata": {
        "id": "rxK4wXBsmwup"
      },
      "execution_count": null,
      "outputs": []
    },
    {
      "cell_type": "code",
      "source": [
        "#11. what are advantages that dictionaries offer over lists in certain tasks ?\n",
        "# Dictionaries can be used to store peronal and non-personal information of a person , by indexing that information with a key.\n",
        "# Accessing the information using key will be preferable rather than using list to store that information."
      ],
      "metadata": {
        "id": "2wdNf6KLm4Th"
      },
      "execution_count": null,
      "outputs": []
    },
    {
      "cell_type": "code",
      "source": [
        "#12. Describe a scenario where a tuple is preferable over a list.\n",
        "# As tuple are immutable data sets and lists are mutable, tuple can used to store sensitive information such as employee id, aadhar no.\n",
        "# and any other personal information."
      ],
      "metadata": {
        "id": "mEK1dCCvnAPz"
      },
      "execution_count": null,
      "outputs": []
    },
    {
      "cell_type": "code",
      "source": [
        "#13.How do sets handle duplicate values in python?\n",
        "# sets do not reflect  duplicate values in python. For example\n",
        "a= {1,2,3,12,3}# the variable a is a set\n",
        "#Printing this variable will return 3 once instead of twice.\n",
        "a"
      ],
      "metadata": {
        "colab": {
          "base_uri": "https://localhost:8080/"
        },
        "id": "SD4-Lkl0nHQ0",
        "outputId": "2a79ac44-e09b-436a-fbb2-1d42dc6825bb"
      },
      "execution_count": 77,
      "outputs": [
        {
          "output_type": "execute_result",
          "data": {
            "text/plain": [
              "{1, 2, 3, 12}"
            ]
          },
          "metadata": {},
          "execution_count": 77
        }
      ]
    },
    {
      "cell_type": "code",
      "source": [
        "#14. How does 'in' keyword work differently for lists and dictionaries?\n",
        " # The in keyword is used to check values in the list but the same keyword is used to check key values in a dictionary."
      ],
      "metadata": {
        "id": "fZR7e2b-nPTa"
      },
      "execution_count": 89,
      "outputs": []
    },
    {
      "cell_type": "code",
      "source": [
        "#15. Can you modify elements in a tuple ? Explain why or why not.\n",
        "# Tuples are immutable hence the user cannot alter the elements. Hence the elements cannot be modified"
      ],
      "metadata": {
        "id": "ncRKHCD8ndp8"
      },
      "execution_count": 83,
      "outputs": []
    },
    {
      "cell_type": "code",
      "source": [
        "#16. What is a nested dictionary ? Give an example of use case.\n",
        "# Nested dictionary  is a dictionary within a dictionary.\n",
        "# For example\n",
        "a={\"name\":{\"age\":20},\"city\":\"Chennai\"} # the key value \"name\" stores the dictionary {\"age\":20}\n",
        "a"
      ],
      "metadata": {
        "colab": {
          "base_uri": "https://localhost:8080/"
        },
        "id": "D0zkLVgzno8u",
        "outputId": "cbd28e41-5e39-4c75-fa42-6eefa7ab5356"
      },
      "execution_count": 86,
      "outputs": [
        {
          "output_type": "execute_result",
          "data": {
            "text/plain": [
              "{'name': {'age': 20}, 'city': 'Chennai'}"
            ]
          },
          "metadata": {},
          "execution_count": 86
        }
      ]
    },
    {
      "cell_type": "code",
      "source": [
        "#17. Describe the time complexity of accessing elements in a dictionary.\n",
        "# Dictionary is an unordered data set where the data is indexed to its key values. Unlike Lists or tuples , where the elements can be accessed\n",
        "# based on numbers , elements in a dictionary are accesed using key values. Hence it takes more time to access the elements in a dictionary\n",
        "# than in lists or tuple."
      ],
      "metadata": {
        "id": "NLum6NkunwgG"
      },
      "execution_count": null,
      "outputs": []
    },
    {
      "cell_type": "code",
      "source": [
        "#18. In what situations are lists preferable over dictionaries ?\n",
        "#  Lists can be prefered over dictionaries , if the user intends to retrive an value faster , because the elements within a list are accessed using numbers.\n",
        "# where as elements in a dictionary are accessed using key values.\n",
        "# Lists are also prefered over dictionaries if the data is unlabelled."
      ],
      "metadata": {
        "id": "r0QhaV1nn97v"
      },
      "execution_count": null,
      "outputs": []
    },
    {
      "cell_type": "code",
      "source": [
        "#19. Why are dictionaries considered unordered and how does that affect data retrieval?\n",
        "# When compared to the list , which indexes the data based on numbers, dictonaries stores its data based on key values.\n",
        "#Hence dictionaries are considered as unordered data sets.\n",
        "# To retrieve data in a dictionary , key name linked to particular data should be called."
      ],
      "metadata": {
        "id": "8-5Gc5RloDl6"
      },
      "execution_count": null,
      "outputs": []
    },
    {
      "cell_type": "code",
      "source": [
        "#20. Explain the difference between a list and a dictionary in terms of data retrieval.\n",
        "\"\"\"\n",
        "The elements in the list is indexed  based on numbers but the elements in a dictionary is indexed based on key values.\n",
        "For example\n",
        "a=[1,2,3,4]\n",
        "As the lists are ordered, the 2nd element in the list can be accessed by calling its index values , i.e a[1] will return the element 2.\n",
        "b={\"name\":\"kamal\",\"age\":20}\n",
        "As the items in the dictionary are unordered , the 2nd element in the dictionary can be accessed by calling its key value,\n",
        " i.e b[\"age\"] will return the element 20.\n",
        " \"\"\""
      ],
      "metadata": {
        "id": "WlHyzeM0oVd7"
      },
      "execution_count": null,
      "outputs": []
    },
    {
      "cell_type": "markdown",
      "source": [
        "Practical Questions"
      ],
      "metadata": {
        "id": "Hb5NAGRRojSv"
      }
    },
    {
      "cell_type": "code",
      "source": [
        "# 1. Write a code to create a string with your name and print it.\n",
        "a= \"Kamalnath. K\"\n",
        "print(a)"
      ],
      "metadata": {
        "colab": {
          "base_uri": "https://localhost:8080/"
        },
        "id": "ypDqy5BtomNW",
        "outputId": "9dee340e-c41c-4bd6-8754-5d40bde39b16"
      },
      "execution_count": 1,
      "outputs": [
        {
          "output_type": "stream",
          "name": "stdout",
          "text": [
            "Kamalnath. K\n"
          ]
        }
      ]
    },
    {
      "cell_type": "code",
      "source": [
        "#2. Write a code to find length of the string \"Hello World\".\n",
        "a= \"Hello World\"\n",
        "print(len(a))"
      ],
      "metadata": {
        "colab": {
          "base_uri": "https://localhost:8080/"
        },
        "id": "WuI4zS7aozaj",
        "outputId": "aae32d10-1369-4a73-84f9-9fb72dbd959f"
      },
      "execution_count": 2,
      "outputs": [
        {
          "output_type": "stream",
          "name": "stdout",
          "text": [
            "11\n"
          ]
        }
      ]
    },
    {
      "cell_type": "code",
      "source": [
        "#3. Write a code to slice the first 3 characters  from the string \"Python Programming\".\n",
        "a= \"Python Programming\"\n",
        "print(a[0:3])"
      ],
      "metadata": {
        "colab": {
          "base_uri": "https://localhost:8080/"
        },
        "id": "USzf2B5xpSsD",
        "outputId": "b3509b16-07ed-489b-8e23-a8729ea975cb"
      },
      "execution_count": 3,
      "outputs": [
        {
          "output_type": "stream",
          "name": "stdout",
          "text": [
            "Pyt\n"
          ]
        }
      ]
    },
    {
      "cell_type": "code",
      "source": [
        "#4. Write a code to convert the string \"hello\" to upper case.\n",
        "a=\"hello\"\n",
        "print(a.upper())"
      ],
      "metadata": {
        "colab": {
          "base_uri": "https://localhost:8080/"
        },
        "id": "BCFCvRsXpvf2",
        "outputId": "851a14d1-0e26-4cd8-f3c6-03f4f37eedb7"
      },
      "execution_count": 5,
      "outputs": [
        {
          "output_type": "stream",
          "name": "stdout",
          "text": [
            "HELLO\n"
          ]
        }
      ]
    },
    {
      "cell_type": "code",
      "source": [
        "#5. Write a code to replace the word \"apple\" with \"orange\" in the string \"I like apple\".\n",
        "a=list(\"I like apple\")\n",
        "a[7:12]=\"orange\"\n",
        "for i in a :\n",
        "    print(i,end=\"\")"
      ],
      "metadata": {
        "colab": {
          "base_uri": "https://localhost:8080/"
        },
        "id": "Vqq8xAElqNQI",
        "outputId": "06b6a841-2cf2-4d17-96f4-55953bf104bc"
      },
      "execution_count": 12,
      "outputs": [
        {
          "output_type": "stream",
          "name": "stdout",
          "text": [
            "I like orange"
          ]
        }
      ]
    },
    {
      "cell_type": "code",
      "source": [
        "#6. Write a code to create a list with numbers 1 to 5 and print it.\n",
        "a=[1,2,3,4,5]\n",
        "print(a)"
      ],
      "metadata": {
        "colab": {
          "base_uri": "https://localhost:8080/"
        },
        "id": "nlg9WgdVrkJw",
        "outputId": "6d2901d3-e1a2-470a-e003-e8df74af1a1c"
      },
      "execution_count": 13,
      "outputs": [
        {
          "output_type": "stream",
          "name": "stdout",
          "text": [
            "[1, 2, 3, 4, 5]\n"
          ]
        }
      ]
    },
    {
      "cell_type": "code",
      "source": [
        "#7. Write a code to append the number 10 to the list [1,2,3,4]\n",
        "a=[1,2,3,4]\n",
        "a.append(10)\n",
        "a"
      ],
      "metadata": {
        "colab": {
          "base_uri": "https://localhost:8080/"
        },
        "id": "HDfuPpAZr4dq",
        "outputId": "8572097c-9acf-4276-8475-b48c1c62ef73"
      },
      "execution_count": 26,
      "outputs": [
        {
          "output_type": "execute_result",
          "data": {
            "text/plain": [
              "[1, 2, 3, 4, 10]"
            ]
          },
          "metadata": {},
          "execution_count": 26
        }
      ]
    },
    {
      "cell_type": "code",
      "source": [
        "#8. Write a code to remove the number 3 from the list [1,2,3,4]\n",
        "a=[1,2,3,4]\n",
        "a.remove(3)\n",
        "a\n"
      ],
      "metadata": {
        "colab": {
          "base_uri": "https://localhost:8080/"
        },
        "id": "y6OVfNTDsIlD",
        "outputId": "0807745b-3148-46bd-b985-85065d1a4886"
      },
      "execution_count": 25,
      "outputs": [
        {
          "output_type": "execute_result",
          "data": {
            "text/plain": [
              "[1, 2, 4]"
            ]
          },
          "metadata": {},
          "execution_count": 25
        }
      ]
    },
    {
      "cell_type": "code",
      "source": [
        "#9. Write a code to access 2nd element in the list ['a','b','c','d']\n",
        "a=['a','b','c','d']\n",
        "print(a[1])"
      ],
      "metadata": {
        "colab": {
          "base_uri": "https://localhost:8080/"
        },
        "id": "PrVCbMXrs9uY",
        "outputId": "cd88f7e2-4870-40cb-c537-efb074be9e20"
      },
      "execution_count": 27,
      "outputs": [
        {
          "output_type": "stream",
          "name": "stdout",
          "text": [
            "b\n"
          ]
        }
      ]
    },
    {
      "cell_type": "code",
      "source": [
        "#10.Write a code to reverse the list [10,20,30,40,50]\n",
        "a=[10,20,30,40,50]\n",
        "a[::-1]"
      ],
      "metadata": {
        "colab": {
          "base_uri": "https://localhost:8080/"
        },
        "id": "frXB9yNXtQs-",
        "outputId": "f60a4c77-a682-409d-e499-f5f341008a2a"
      },
      "execution_count": 31,
      "outputs": [
        {
          "output_type": "execute_result",
          "data": {
            "text/plain": [
              "[50, 40, 30, 20, 10]"
            ]
          },
          "metadata": {},
          "execution_count": 31
        }
      ]
    },
    {
      "cell_type": "code",
      "source": [
        "#11. Write a code to create a tuple with the  elements 100,200,300 and print it.\n",
        "a=(100,200,300)\n",
        "print(a)"
      ],
      "metadata": {
        "colab": {
          "base_uri": "https://localhost:8080/"
        },
        "id": "FIe9mUaytwFh",
        "outputId": "609521bf-e95d-4fda-c377-f25f252969e2"
      },
      "execution_count": 32,
      "outputs": [
        {
          "output_type": "stream",
          "name": "stdout",
          "text": [
            "(100, 200, 300)\n"
          ]
        }
      ]
    },
    {
      "cell_type": "code",
      "source": [
        "#12. Write a code to access second-to-last element of the tuple ('red', green','blue','yellow')\n",
        "a=('red', 'green','blue','yellow')\n",
        "print(a[-2])"
      ],
      "metadata": {
        "colab": {
          "base_uri": "https://localhost:8080/"
        },
        "id": "o0tsGLxDuA-Z",
        "outputId": "e12a3e1b-d7d8-4f9b-c892-dbff1c5aa7ba"
      },
      "execution_count": 34,
      "outputs": [
        {
          "output_type": "stream",
          "name": "stdout",
          "text": [
            "blue\n"
          ]
        }
      ]
    },
    {
      "cell_type": "code",
      "source": [
        "#13. Write a code to find minimum number in the tuple (10,20,5,15)\n",
        "a=(10,20,5,15)\n",
        "min(a)"
      ],
      "metadata": {
        "colab": {
          "base_uri": "https://localhost:8080/"
        },
        "id": "p5akN6xNugU7",
        "outputId": "f9e15681-0736-428f-a719-6cbb663c7622"
      },
      "execution_count": 35,
      "outputs": [
        {
          "output_type": "execute_result",
          "data": {
            "text/plain": [
              "5"
            ]
          },
          "metadata": {},
          "execution_count": 35
        }
      ]
    },
    {
      "cell_type": "code",
      "source": [
        "#14. Write a code to find index of the element \"cat\" in the tuple('dog','cat', 'rabbit')\n",
        "a=('dog','cat','rabbit')\n",
        "a.index('cat')"
      ],
      "metadata": {
        "colab": {
          "base_uri": "https://localhost:8080/"
        },
        "id": "wWFMPQ9Uuwlt",
        "outputId": "1ee17570-2821-4bd0-e978-7ed08c9f312c"
      },
      "execution_count": 38,
      "outputs": [
        {
          "output_type": "execute_result",
          "data": {
            "text/plain": [
              "1"
            ]
          },
          "metadata": {},
          "execution_count": 38
        }
      ]
    },
    {
      "cell_type": "code",
      "source": [
        "#15. Write a code to create a tuple containing  3 different fruits and check if Kiwi is in it.\n",
        "a=(\"apple\",\"banana\",\"kiwi\")\n",
        "\"kiwi\" in a"
      ],
      "metadata": {
        "colab": {
          "base_uri": "https://localhost:8080/"
        },
        "id": "Qf9F8hMDvzmu",
        "outputId": "f0ff0a4b-68a1-4f99-d0e7-45cb4838413f"
      },
      "execution_count": 39,
      "outputs": [
        {
          "output_type": "execute_result",
          "data": {
            "text/plain": [
              "True"
            ]
          },
          "metadata": {},
          "execution_count": 39
        }
      ]
    },
    {
      "cell_type": "code",
      "source": [
        "#16. Write a code to create a set with elements 'a','b','c' and print it.\n",
        "a={'a','b','c'}\n",
        "print(a)"
      ],
      "metadata": {
        "colab": {
          "base_uri": "https://localhost:8080/"
        },
        "id": "110ev1BlwKGV",
        "outputId": "4b541f55-07b2-4916-e863-f989b4b43685"
      },
      "execution_count": 41,
      "outputs": [
        {
          "output_type": "stream",
          "name": "stdout",
          "text": [
            "{'b', 'a', 'c'}\n"
          ]
        }
      ]
    },
    {
      "cell_type": "code",
      "source": [
        "# 17. Write a code to clear all elements from the set {1,2,3,4,5}\n",
        "b={1,2,3,4,5}\n",
        "b.clear()\n",
        "b\n"
      ],
      "metadata": {
        "colab": {
          "base_uri": "https://localhost:8080/"
        },
        "id": "rZjhZ7RAwk33",
        "outputId": "fc8b0b00-7b26-43d2-c7a2-07274db80f05"
      },
      "execution_count": 49,
      "outputs": [
        {
          "output_type": "execute_result",
          "data": {
            "text/plain": [
              "set()"
            ]
          },
          "metadata": {},
          "execution_count": 49
        }
      ]
    },
    {
      "cell_type": "code",
      "source": [
        "#18. Write a code to remove number 4 from the set {1,2,3,4}\n",
        "a={1,2,3,4}\n",
        "a.remove(4)\n",
        "a"
      ],
      "metadata": {
        "colab": {
          "base_uri": "https://localhost:8080/"
        },
        "id": "ik8Wr43ww_UG",
        "outputId": "1f7f825b-1ca2-441b-ef67-2629737ce2d1"
      },
      "execution_count": 50,
      "outputs": [
        {
          "output_type": "execute_result",
          "data": {
            "text/plain": [
              "{1, 2, 3}"
            ]
          },
          "metadata": {},
          "execution_count": 50
        }
      ]
    },
    {
      "cell_type": "code",
      "source": [
        "#19. Write a code to find union of two sets {1,2,3} and {3,4,5}\n",
        "a={1,2,3}\n",
        "b={3,4,5}\n",
        "c=a|b\n",
        "c"
      ],
      "metadata": {
        "colab": {
          "base_uri": "https://localhost:8080/"
        },
        "id": "sVKSi-SIxNNN",
        "outputId": "a3cd4e70-0c71-4f84-d3e6-e9b9a29d2dd8"
      },
      "execution_count": 51,
      "outputs": [
        {
          "output_type": "execute_result",
          "data": {
            "text/plain": [
              "{1, 2, 3, 4, 5}"
            ]
          },
          "metadata": {},
          "execution_count": 51
        }
      ]
    },
    {
      "cell_type": "code",
      "source": [
        "#20. Write a code to find intersection of two sets {1,2,3} and {2,3,4}\n",
        "a={1,2,3}\n",
        "b={2,3,4}\n",
        "c= a & b\n",
        "c"
      ],
      "metadata": {
        "colab": {
          "base_uri": "https://localhost:8080/"
        },
        "id": "oqKQSp7PxfTy",
        "outputId": "613eaf45-95ff-45b4-c68a-d93749029a35"
      },
      "execution_count": 52,
      "outputs": [
        {
          "output_type": "execute_result",
          "data": {
            "text/plain": [
              "{2, 3}"
            ]
          },
          "metadata": {},
          "execution_count": 52
        }
      ]
    },
    {
      "cell_type": "code",
      "source": [
        "#21. Write a code to create a dictionary with keys \"name\",\"age\" and \"city\" and print it.\n",
        "a={\"name\":\"Kamalnath\",\"age\":20,\"city\":\"Lucknow\"}\n",
        "print(a)"
      ],
      "metadata": {
        "colab": {
          "base_uri": "https://localhost:8080/"
        },
        "id": "5SRQRknJx85Q",
        "outputId": "27ee47fd-d98e-4762-a704-4c0d41ba1bbd"
      },
      "execution_count": 53,
      "outputs": [
        {
          "output_type": "stream",
          "name": "stdout",
          "text": [
            "{'name': 'Kamalnath', 'age': 20, 'city': 'Lucknow'}\n"
          ]
        }
      ]
    },
    {
      "cell_type": "code",
      "source": [
        "#22. Write a code to add new key- value pair \"country\":\"USA\" to the dictionary {\"name\":'John', \"age\":25}\n",
        "a={\"name\": 'John', \"age\":25}\n",
        "a[\"country\"]=\"USA\"\n",
        "a"
      ],
      "metadata": {
        "colab": {
          "base_uri": "https://localhost:8080/"
        },
        "id": "iI4qe-iTyVje",
        "outputId": "373efda8-0e54-4357-fa0d-a29fb9aaa4a5"
      },
      "execution_count": 54,
      "outputs": [
        {
          "output_type": "execute_result",
          "data": {
            "text/plain": [
              "{'name': 'John', 'age': 25, 'country': 'USA'}"
            ]
          },
          "metadata": {},
          "execution_count": 54
        }
      ]
    },
    {
      "cell_type": "code",
      "source": [
        "#23. Write a code to access the value associated with the key \"name\" in the dictionary {'name':\"Alice\", 'age':30}\n",
        "a={\"name\":\"Alice\", 'age':30}\n",
        "a[\"name\"]"
      ],
      "metadata": {
        "colab": {
          "base_uri": "https://localhost:8080/",
          "height": 35
        },
        "id": "AV7As4bdy0IB",
        "outputId": "516005e7-3abc-40ec-b6aa-7b135d3e0692"
      },
      "execution_count": 55,
      "outputs": [
        {
          "output_type": "execute_result",
          "data": {
            "text/plain": [
              "'Alice'"
            ],
            "application/vnd.google.colaboratory.intrinsic+json": {
              "type": "string"
            }
          },
          "metadata": {},
          "execution_count": 55
        }
      ]
    },
    {
      "cell_type": "code",
      "source": [
        "#24. Write a code to remove the key \"age\" from the dictionary {\"name\":'Alice', \"age\":22, city\":'New York'}\n",
        "a={\"name\":'Alice', \"age\":22, 'city':\"New York\"}\n",
        "a.pop(\"age\")\n",
        "a"
      ],
      "metadata": {
        "colab": {
          "base_uri": "https://localhost:8080/"
        },
        "id": "0OcP7IL1zRN5",
        "outputId": "5ee306c6-8b8e-4b18-9800-f44912d2daa8"
      },
      "execution_count": 58,
      "outputs": [
        {
          "output_type": "execute_result",
          "data": {
            "text/plain": [
              "{'name': 'Alice', 'city': 'New York'}"
            ]
          },
          "metadata": {},
          "execution_count": 58
        }
      ]
    },
    {
      "cell_type": "code",
      "source": [
        "#25. Write a code to check if the key \"city\" exists in the dictionary {'name':'Alice','city':'Paris'}\n",
        "a={'name':'Alice','city':'Paris'}\n",
        "\"city\" in a"
      ],
      "metadata": {
        "colab": {
          "base_uri": "https://localhost:8080/"
        },
        "id": "IdS7vQpEz9cP",
        "outputId": "a448a221-597d-43c7-99cc-94b8ae9be34b"
      },
      "execution_count": 62,
      "outputs": [
        {
          "output_type": "execute_result",
          "data": {
            "text/plain": [
              "True"
            ]
          },
          "metadata": {},
          "execution_count": 62
        }
      ]
    },
    {
      "cell_type": "code",
      "source": [
        "#26. Write a code to create a list, tuple and dictionary and print them all.\n",
        "a=[1,2,3,4]\n",
        "b=(1,2,3,4)\n",
        "c={\"name\":\"Kamalnath\",\"age\":20,\"city\":\"Lucknow\"}\n",
        "print(a)\n",
        "print(b)\n",
        "print(c)"
      ],
      "metadata": {
        "colab": {
          "base_uri": "https://localhost:8080/"
        },
        "id": "hmJCIIKi1R2n",
        "outputId": "8016b20c-24f6-42d7-c2bb-7349b40a665e"
      },
      "execution_count": 63,
      "outputs": [
        {
          "output_type": "stream",
          "name": "stdout",
          "text": [
            "[1, 2, 3, 4]\n",
            "(1, 2, 3, 4)\n",
            "{'name': 'Kamalnath', 'age': 20, 'city': 'Lucknow'}\n"
          ]
        }
      ]
    },
    {
      "cell_type": "code",
      "source": [
        "#27. Write a code to create a list of 5 random numbers between 1 and 100, sort it in ascending order and print the result.\n",
        "a=[12,65,33,23,10]\n",
        "a.sort()\n",
        "a"
      ],
      "metadata": {
        "colab": {
          "base_uri": "https://localhost:8080/"
        },
        "id": "iDk2ndSE0z6b",
        "outputId": "703d5735-8e24-4502-f333-eec4a942c1b7"
      },
      "execution_count": 65,
      "outputs": [
        {
          "output_type": "execute_result",
          "data": {
            "text/plain": [
              "[10, 12, 23, 33, 65]"
            ]
          },
          "metadata": {},
          "execution_count": 65
        }
      ]
    },
    {
      "cell_type": "code",
      "source": [
        "#28. Write a code to create a list with strings and print the element at the third  index.\n",
        "a=['ram','shyam','kishan','rohan']\n",
        "print(a[2])"
      ],
      "metadata": {
        "colab": {
          "base_uri": "https://localhost:8080/"
        },
        "id": "nA0lIDaz17FI",
        "outputId": "74d69299-c585-499d-855e-7d70d66ea0e7"
      },
      "execution_count": 66,
      "outputs": [
        {
          "output_type": "stream",
          "name": "stdout",
          "text": [
            "kishan\n"
          ]
        }
      ]
    },
    {
      "cell_type": "code",
      "source": [
        "#29.Write a code to combine two dictionaries into one and print the result.\n",
        "a={\"name\":\"Kamalnath\",\"age\":20,\"city\":\"Lucknow\"}\n",
        "b={\"salary\":30000,\"company\":\"BNY\",\"State\":\"Tamilnadu\"}\n",
        "c=a|b\n",
        "print(c)\n"
      ],
      "metadata": {
        "colab": {
          "base_uri": "https://localhost:8080/"
        },
        "id": "xB74hYjc2Z-Q",
        "outputId": "94a21c7b-8ea0-4399-bda5-3faec418d825"
      },
      "execution_count": 71,
      "outputs": [
        {
          "output_type": "stream",
          "name": "stdout",
          "text": [
            "{'name': 'Kamalnath', 'age': 20, 'city': 'Lucknow', 'salary': 30000, 'company': 'BNY', 'State': 'Tamilnadu'}\n"
          ]
        }
      ]
    },
    {
      "cell_type": "code",
      "source": [
        "#30. Write a code to convet a list of strings into set.\n",
        "a=[\"ram\",\"shyam\",\"ghanshyam\"]\n",
        "b=set(a)\n",
        "print(b)"
      ],
      "metadata": {
        "colab": {
          "base_uri": "https://localhost:8080/"
        },
        "id": "vFE83Bh33XYF",
        "outputId": "74e25bbf-6ce2-40b7-83ad-3475010bcf40"
      },
      "execution_count": 72,
      "outputs": [
        {
          "output_type": "stream",
          "name": "stdout",
          "text": [
            "{'shyam', 'ghanshyam', 'ram'}\n"
          ]
        }
      ]
    }
  ]
}